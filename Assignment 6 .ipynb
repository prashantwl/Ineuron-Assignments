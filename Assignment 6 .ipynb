{
 "cells": [
  {
   "cell_type": "markdown",
   "id": "d7a08103",
   "metadata": {},
   "source": [
    "# 1.What are Escape characters ? and how do you use them ?"
   ]
  },
  {
   "cell_type": "markdown",
   "id": "0786bfa4",
   "metadata": {},
   "source": [
    "Ans: Escape characters represent characters in string values that would otherwise be difficult or impossible to type into code. we can use the backslash character to escape a single character or symbol"
   ]
  },
  {
   "cell_type": "markdown",
   "id": "569eeef2",
   "metadata": {},
   "source": [
    "# 2.What do the escape characters n and t stand for ?\n"
   ]
  },
  {
   "cell_type": "markdown",
   "id": "46d3873f",
   "metadata": {},
   "source": [
    "Ans: \\n is a newline, \\t is a tab"
   ]
  },
  {
   "cell_type": "markdown",
   "id": "f44592f1",
   "metadata": {},
   "source": [
    "# 3.What is the way to include backslash character in a string?\n"
   ]
  },
  {
   "cell_type": "markdown",
   "id": "ca80d74f",
   "metadata": {},
   "source": [
    "Ans: The \\\\ escape character will represent the backslash character in a string\n",
    "\n"
   ]
  },
  {
   "cell_type": "markdown",
   "id": "b0ed3ec9",
   "metadata": {},
   "source": [
    "# 4.The string \"Howl's Moving Castle\" is a correct value. Why isn't the single quote character in the word Howl's not escaped a problem ?"
   ]
  },
  {
   "cell_type": "markdown",
   "id": "c52c9ee8",
   "metadata": {},
   "source": [
    "Ans: The string \"Howl's Moving Castle\" escaped the problem because it is wrapped inside double quotes. if its wrapped inside single quotes then we have to use escape character \\' to show single quote in the final output\n",
    "'Howl\\'s Moving Castle' -> 'Howl's Moving Castle'"
   ]
  },
  {
   "cell_type": "markdown",
   "id": "a52241ed",
   "metadata": {},
   "source": [
    "# 5.How do you write a string of newlines if you don't want to use the n character?\n"
   ]
  },
  {
   "cell_type": "markdown",
   "id": "5c6f3ea1",
   "metadata": {},
   "source": [
    "Ans: Multiline string allow you to use newlines in string without the \\n escape character\n"
   ]
  },
  {
   "cell_type": "code",
   "execution_count": 2,
   "id": "9ea73aec",
   "metadata": {},
   "outputs": [
    {
     "name": "stdout",
     "output_type": "stream",
     "text": [
      "Prashant looks handsome\n",
      "but ansh looks good \n"
     ]
    }
   ],
   "source": [
    "a = '''Prashant looks handsome\n",
    "but ansh looks good '''\n",
    "print(a)"
   ]
  },
  {
   "cell_type": "markdown",
   "id": "8330bd33",
   "metadata": {},
   "source": [
    "# 6.What are the values of the given expressions ?\n",
    "'Hello, world!'[1]\n",
    "'Hello, world!'[0:5]\n",
    "'Hello, world!'[:5]\n",
    "'Hello, world!'[3:]"
   ]
  },
  {
   "cell_type": "markdown",
   "id": "212948e5",
   "metadata": {},
   "source": [
    "Ans: The values for the given expressions are:\n",
    "'Hello, world!'[1] -> 'e'\n",
    "'Hello, world!'[0:5] -> 'Hello'\n",
    "'Hello, world!'[:5] -> 'Hello'\n",
    "'Hello, world!'[3:] -> 'lo, world!'"
   ]
  },
  {
   "cell_type": "markdown",
   "id": "8b8b3e5a",
   "metadata": {},
   "source": [
    "# 7.What are the values of the following expressions ?\n",
    "'Hello'.upper()\n",
    "'Hello'.upper().isupper()\n",
    "'Hello'.upper().lower()"
   ]
  },
  {
   "cell_type": "markdown",
   "id": "1c47d47b",
   "metadata": {},
   "source": [
    "# 8.What are the values of the following expressions ?\n"
   ]
  },
  {
   "cell_type": "markdown",
   "id": "c4ca36ae",
   "metadata": {},
   "source": [
    "'Remember, remember, the fifith of July.'.split()\n",
    "-'.join('There can only one'.split())"
   ]
  },
  {
   "cell_type": "markdown",
   "id": "453b9fdd",
   "metadata": {},
   "source": [
    "Ans: The values for the given expressions are:\n",
    "'Remember, remember, the fifith of July.'.split() -> ['Remember,', 'remember,', 'the', 'fifith', 'of', 'July.']\n",
    "'-'.join('There can only one'.split()) -> 'There-can-only-one'"
   ]
  },
  {
   "cell_type": "markdown",
   "id": "4601cd92",
   "metadata": {},
   "source": [
    "# 9.What are the methods for right-justifying, left-justifying and centering a string ?\n"
   ]
  },
  {
   "cell_type": "markdown",
   "id": "8505b69e",
   "metadata": {},
   "source": [
    "Ans: The rjust(),ljust(),center() string methods, respectively\n",
    "\n"
   ]
  },
  {
   "cell_type": "markdown",
   "id": "bfc73579",
   "metadata": {},
   "source": [
    "# 10.What is the best way to remove whitespace characters from the start or end ?\n"
   ]
  },
  {
   "cell_type": "markdown",
   "id": "8af8366b",
   "metadata": {},
   "source": [
    "Ans: The lstrip() and rstrip() methods remove whitesapce characters from the left and right ends of a string respectively"
   ]
  },
  {
   "cell_type": "code",
   "execution_count": null,
   "id": "2f968519",
   "metadata": {},
   "outputs": [],
   "source": []
  }
 ],
 "metadata": {
  "kernelspec": {
   "display_name": "Python 3 (ipykernel)",
   "language": "python",
   "name": "python3"
  },
  "language_info": {
   "codemirror_mode": {
    "name": "ipython",
    "version": 3
   },
   "file_extension": ".py",
   "mimetype": "text/x-python",
   "name": "python",
   "nbconvert_exporter": "python",
   "pygments_lexer": "ipython3",
   "version": "3.9.7"
  }
 },
 "nbformat": 4,
 "nbformat_minor": 5
}
