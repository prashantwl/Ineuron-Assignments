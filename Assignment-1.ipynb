{
 "cells": [
  {
   "cell_type": "markdown",
   "id": "8b269d59",
   "metadata": {},
   "source": [
    "# 1. In the below elements which of them are values or an expression? eg:- values can be integer or string and expressions will be mathematical operators.\n",
    "\n",
    "\n"
   ]
  },
  {
   "cell_type": "code",
   "execution_count": null,
   "id": "8a72d9f3",
   "metadata": {},
   "outputs": [],
   "source": [
    "*                     - expression\n",
    "'hello'               - value\n",
    "-87.8                 - value\n",
    "-                       expression\n",
    "/                     - expression  \n",
    "+                     - expression\n",
    "6                     - value"
   ]
  },
  {
   "cell_type": "markdown",
   "id": "eb807dd2",
   "metadata": {},
   "source": [
    "# 2. What is the difference between string and variable?"
   ]
  },
  {
   "cell_type": "code",
   "execution_count": null,
   "id": "3c9d6cdd",
   "metadata": {},
   "outputs": [],
   "source": [
    "Answere - Strings are anything which is assign to a variable using quotes. for e.g - \"Prashant\" \" 123 \" & \n",
    "variable is a thing where we store values or data like a container. for e.g = x = 90"
   ]
  },
  {
   "cell_type": "markdown",
   "id": "35c7d2ce",
   "metadata": {},
   "source": [
    "# 3. Describe three different data types."
   ]
  },
  {
   "cell_type": "code",
   "execution_count": null,
   "id": "0e13cd00",
   "metadata": {},
   "outputs": [],
   "source": [
    "\n",
    "Answere - List: the list is used for storing multiple data items in a single variable.\n",
    "\n",
    "Integer: integer can store only numerical values.\n",
    "\n",
    "Float: float can store only floating values such as 233.33, 22.2, etc.\n"
   ]
  },
  {
   "cell_type": "markdown",
   "id": "0e8f1390",
   "metadata": {},
   "source": [
    "# 4. What is an expression made up of? What do all expressions do?"
   ]
  },
  {
   "cell_type": "code",
   "execution_count": null,
   "id": "cae7bd24",
   "metadata": {},
   "outputs": [],
   "source": [
    "Answere -  Expression is made up of values and mathematical operators.\n",
    "\n",
    "e.g x = 1 + 1 and expressions are used to evaluate the values or represent the result on the screen."
   ]
  },
  {
   "cell_type": "markdown",
   "id": "3e55a1bd",
   "metadata": {},
   "source": [
    "# 5. This assignment statements, like spam = 10. What is the difference between an expression and a statement?"
   ]
  },
  {
   "cell_type": "code",
   "execution_count": null,
   "id": "cb177e5c",
   "metadata": {},
   "outputs": [],
   "source": [
    "Expression is made up of values and mathematical operators \n",
    "and the statement is just like a command. for e.g = print()"
   ]
  },
  {
   "cell_type": "markdown",
   "id": "e3186210",
   "metadata": {},
   "source": [
    "# 6. After running the following code, what does the variable bacon contain?\n"
   ]
  },
  {
   "cell_type": "code",
   "execution_count": 1,
   "id": "0dd1b27c",
   "metadata": {},
   "outputs": [
    {
     "data": {
      "text/plain": [
       "23"
      ]
     },
     "execution_count": 1,
     "metadata": {},
     "output_type": "execute_result"
    }
   ],
   "source": [
    "bacon = 22\n",
    "bacon + 1"
   ]
  },
  {
   "cell_type": "markdown",
   "id": "b4d84704",
   "metadata": {},
   "source": [
    "# 7. What should the values of the following two terms be?"
   ]
  },
  {
   "cell_type": "code",
   "execution_count": null,
   "id": "5f63d96a",
   "metadata": {},
   "outputs": [],
   "source": [
    "'spam' + 'spamspam'\n",
    "\n",
    "'spam' * 3"
   ]
  },
  {
   "cell_type": "code",
   "execution_count": 3,
   "id": "e362aa6f",
   "metadata": {},
   "outputs": [
    {
     "data": {
      "text/plain": [
       "'spamspamspam'"
      ]
     },
     "execution_count": 3,
     "metadata": {},
     "output_type": "execute_result"
    }
   ],
   "source": [
    "'spam' + 'spamspam'"
   ]
  },
  {
   "cell_type": "code",
   "execution_count": 4,
   "id": "7f6942e3",
   "metadata": {
    "scrolled": true
   },
   "outputs": [
    {
     "data": {
      "text/plain": [
       "'spamspamspam'"
      ]
     },
     "execution_count": 4,
     "metadata": {},
     "output_type": "execute_result"
    }
   ],
   "source": [
    "'spam'*3'"
   ]
  },
  {
   "cell_type": "markdown",
   "id": "65a0c19c",
   "metadata": {},
   "source": [
    "# 8. Why is eggs a valid variable name while 100 is invalid?"
   ]
  },
  {
   "cell_type": "code",
   "execution_count": null,
   "id": "148895f8",
   "metadata": {},
   "outputs": [],
   "source": [
    "Answere - because \"eggs\" is a alaphabet and can't write a variable as a interger"
   ]
  },
  {
   "cell_type": "markdown",
   "id": "649d2a3f",
   "metadata": {},
   "source": [
    "# 9. What three functions can be used to get the integer, floating-point number, or string version of a value?'\n"
   ]
  },
  {
   "cell_type": "code",
   "execution_count": null,
   "id": "7d2eeb83",
   "metadata": {},
   "outputs": [],
   "source": [
    "Answere-\n",
    " int(), float(), str()\n"
   ]
  },
  {
   "cell_type": "markdown",
   "id": "9490cb49",
   "metadata": {},
   "source": [
    "# 10. Why does this expression cause an error? How can you fix it?\n",
    "'I have eaten ' + 99 + ' burritos.'\n"
   ]
  },
  {
   "cell_type": "code",
   "execution_count": null,
   "id": "1bb5ae4e",
   "metadata": {},
   "outputs": [],
   "source": [
    "\n",
    "#because \"99\" is a integer and is written wrongly. for e.g =\n",
    "\n",
    "' I have eaten ' + str(99) + ' burritos.'\n"
   ]
  }
 ],
 "metadata": {
  "kernelspec": {
   "display_name": "Python 3 (ipykernel)",
   "language": "python",
   "name": "python3"
  },
  "language_info": {
   "codemirror_mode": {
    "name": "ipython",
    "version": 3
   },
   "file_extension": ".py",
   "mimetype": "text/x-python",
   "name": "python",
   "nbconvert_exporter": "python",
   "pygments_lexer": "ipython3",
   "version": "3.9.7"
  }
 },
 "nbformat": 4,
 "nbformat_minor": 5
}
